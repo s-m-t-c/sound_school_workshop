{
 "cells": [
  {
   "cell_type": "markdown",
   "metadata": {},
   "source": [
    "## Basic Sonification Notebook for Sound School Workshop\n",
    "### Produces a midi file containing a series of pitches mapped to the input data\n",
    "#### Thanks to the awesome MIDITime library - https://github.com/cirlabs/miditime"
   ]
  },
  {
   "cell_type": "code",
   "execution_count": 2,
   "metadata": {
    "collapsed": true
   },
   "outputs": [],
   "source": [
    "# Import the libraries that we need, you will need to install these in your environment\n",
    "\n",
    "from miditime.miditime import MIDITime\n",
    "import pandas\n",
    "import csv"
   ]
  },
  {
   "cell_type": "code",
   "execution_count": 3,
   "metadata": {
    "collapsed": true
   },
   "outputs": [],
   "source": [
    "# Define a function we will use to transform the data later, different note ranges can be added here\n",
    "\n",
    "def data_to_pitch_tuned(value, data_min, data_max):\n",
    "    # Where does this data point sit in the domain of your data? In this case the optional 'True' means the scale is reversed, so the highest value will return the lowest percentage.\n",
    "    scale_pct = mymidi.linear_scale_pct(data_min, data_max, value)\n",
    "\n",
    "    # Pick a range of notes. This allows you to play in a key.\n",
    "    c_major = ['C', 'D', 'E', 'F', 'G', 'A', 'B']\n",
    "    \n",
    "    #Find the note that matches your data point\n",
    "    note = mymidi.scale_to_note(scale_pct, c_major)\n",
    "\n",
    "    #Translate that note to a MIDI pitch\n",
    "    midi_pitch = mymidi.note_to_midi_pitch(note)\n",
    "\n",
    "    return midi_pitch"
   ]
  },
  {
   "cell_type": "code",
   "execution_count": 57,
   "metadata": {},
   "outputs": [
    {
     "data": {
      "text/html": [
       "<div>\n",
       "<style scoped>\n",
       "    .dataframe tbody tr th:only-of-type {\n",
       "        vertical-align: middle;\n",
       "    }\n",
       "\n",
       "    .dataframe tbody tr th {\n",
       "        vertical-align: top;\n",
       "    }\n",
       "\n",
       "    .dataframe thead th {\n",
       "        text-align: right;\n",
       "    }\n",
       "</style>\n",
       "<table border=\"1\" class=\"dataframe\">\n",
       "  <thead>\n",
       "    <tr style=\"text-align: right;\">\n",
       "      <th></th>\n",
       "      <th>Product code</th>\n",
       "      <th>Station Number</th>\n",
       "      <th>Year</th>\n",
       "      <th>Jan</th>\n",
       "      <th>Feb</th>\n",
       "      <th>Mar</th>\n",
       "      <th>Apr</th>\n",
       "      <th>May</th>\n",
       "      <th>Jun</th>\n",
       "      <th>Jul</th>\n",
       "      <th>Aug</th>\n",
       "      <th>Sep</th>\n",
       "      <th>Oct</th>\n",
       "      <th>Nov</th>\n",
       "      <th>Dec</th>\n",
       "      <th>Annual</th>\n",
       "    </tr>\n",
       "  </thead>\n",
       "  <tbody>\n",
       "    <tr>\n",
       "      <td>0</td>\n",
       "      <td>IDCJAC0001</td>\n",
       "      <td>86232</td>\n",
       "      <td>1964</td>\n",
       "      <td>NaN</td>\n",
       "      <td>NaN</td>\n",
       "      <td>NaN</td>\n",
       "      <td>50.7</td>\n",
       "      <td>75.2</td>\n",
       "      <td>33.3</td>\n",
       "      <td>66.9</td>\n",
       "      <td>60.6</td>\n",
       "      <td>81.7</td>\n",
       "      <td>76.9</td>\n",
       "      <td>37.2</td>\n",
       "      <td>92.2</td>\n",
       "      <td>NaN</td>\n",
       "    </tr>\n",
       "    <tr>\n",
       "      <td>1</td>\n",
       "      <td>IDCJAC0001</td>\n",
       "      <td>86232</td>\n",
       "      <td>1965</td>\n",
       "      <td>14.6</td>\n",
       "      <td>0.8</td>\n",
       "      <td>16.3</td>\n",
       "      <td>121.4</td>\n",
       "      <td>80.6</td>\n",
       "      <td>29.8</td>\n",
       "      <td>71.5</td>\n",
       "      <td>100.4</td>\n",
       "      <td>49.6</td>\n",
       "      <td>21.6</td>\n",
       "      <td>66.1</td>\n",
       "      <td>88.8</td>\n",
       "      <td>661.5</td>\n",
       "    </tr>\n",
       "    <tr>\n",
       "      <td>2</td>\n",
       "      <td>IDCJAC0001</td>\n",
       "      <td>86232</td>\n",
       "      <td>1966</td>\n",
       "      <td>45.3</td>\n",
       "      <td>48.7</td>\n",
       "      <td>69.0</td>\n",
       "      <td>58.4</td>\n",
       "      <td>47.4</td>\n",
       "      <td>41.0</td>\n",
       "      <td>60.1</td>\n",
       "      <td>65.7</td>\n",
       "      <td>60.0</td>\n",
       "      <td>67.1</td>\n",
       "      <td>47.5</td>\n",
       "      <td>105.9</td>\n",
       "      <td>716.1</td>\n",
       "    </tr>\n",
       "    <tr>\n",
       "      <td>3</td>\n",
       "      <td>IDCJAC0001</td>\n",
       "      <td>86232</td>\n",
       "      <td>1967</td>\n",
       "      <td>21.2</td>\n",
       "      <td>3.9</td>\n",
       "      <td>16.6</td>\n",
       "      <td>17.5</td>\n",
       "      <td>47.9</td>\n",
       "      <td>46.1</td>\n",
       "      <td>35.0</td>\n",
       "      <td>68.0</td>\n",
       "      <td>51.5</td>\n",
       "      <td>20.3</td>\n",
       "      <td>20.1</td>\n",
       "      <td>40.1</td>\n",
       "      <td>388.2</td>\n",
       "    </tr>\n",
       "    <tr>\n",
       "      <td>4</td>\n",
       "      <td>IDCJAC0001</td>\n",
       "      <td>86232</td>\n",
       "      <td>1968</td>\n",
       "      <td>48.3</td>\n",
       "      <td>6.6</td>\n",
       "      <td>24.6</td>\n",
       "      <td>67.2</td>\n",
       "      <td>100.0</td>\n",
       "      <td>56.9</td>\n",
       "      <td>39.7</td>\n",
       "      <td>40.0</td>\n",
       "      <td>18.3</td>\n",
       "      <td>51.5</td>\n",
       "      <td>44.5</td>\n",
       "      <td>53.6</td>\n",
       "      <td>551.2</td>\n",
       "    </tr>\n",
       "  </tbody>\n",
       "</table>\n",
       "</div>"
      ],
      "text/plain": [
       "  Product code  Station Number  Year   Jan   Feb   Mar    Apr    May   Jun  \\\n",
       "0   IDCJAC0001           86232  1964   NaN   NaN   NaN   50.7   75.2  33.3   \n",
       "1   IDCJAC0001           86232  1965  14.6   0.8  16.3  121.4   80.6  29.8   \n",
       "2   IDCJAC0001           86232  1966  45.3  48.7  69.0   58.4   47.4  41.0   \n",
       "3   IDCJAC0001           86232  1967  21.2   3.9  16.6   17.5   47.9  46.1   \n",
       "4   IDCJAC0001           86232  1968  48.3   6.6  24.6   67.2  100.0  56.9   \n",
       "\n",
       "    Jul    Aug   Sep   Oct   Nov    Dec  Annual  \n",
       "0  66.9   60.6  81.7  76.9  37.2   92.2     NaN  \n",
       "1  71.5  100.4  49.6  21.6  66.1   88.8   661.5  \n",
       "2  60.1   65.7  60.0  67.1  47.5  105.9   716.1  \n",
       "3  35.0   68.0  51.5  20.3  20.1   40.1   388.2  \n",
       "4  39.7   40.0  18.3  51.5  44.5   53.6   551.2  "
      ]
     },
     "execution_count": 57,
     "metadata": {},
     "output_type": "execute_result"
    }
   ],
   "source": [
    "# Open up the .csv file using Pandas, change the file path to open a different file\n",
    "# IDCJAC0001_086232_Data12.csv contains monthly and average rainfall for Melbourne Botanic Gardens, file downloaded from BOM\n",
    "# weather.csv contains some miscellaneous weather data that can also be used\n",
    "\n",
    "\n",
    "file_path = 'IDCJAC0001_086232_Data12.csv'\n",
    "data = pandas.read_csv(file_path)\n",
    "\n",
    "data.head()"
   ]
  },
  {
   "cell_type": "code",
   "execution_count": 58,
   "metadata": {},
   "outputs": [
    {
     "data": {
      "text/html": [
       "<div>\n",
       "<style scoped>\n",
       "    .dataframe tbody tr th:only-of-type {\n",
       "        vertical-align: middle;\n",
       "    }\n",
       "\n",
       "    .dataframe tbody tr th {\n",
       "        vertical-align: top;\n",
       "    }\n",
       "\n",
       "    .dataframe thead th {\n",
       "        text-align: right;\n",
       "    }\n",
       "</style>\n",
       "<table border=\"1\" class=\"dataframe\">\n",
       "  <thead>\n",
       "    <tr style=\"text-align: right;\">\n",
       "      <th></th>\n",
       "      <th>Year</th>\n",
       "      <th>Annual</th>\n",
       "    </tr>\n",
       "  </thead>\n",
       "  <tbody>\n",
       "    <tr>\n",
       "      <td>0</td>\n",
       "      <td>1964</td>\n",
       "      <td>NaN</td>\n",
       "    </tr>\n",
       "    <tr>\n",
       "      <td>1</td>\n",
       "      <td>1965</td>\n",
       "      <td>661.5</td>\n",
       "    </tr>\n",
       "    <tr>\n",
       "      <td>2</td>\n",
       "      <td>1966</td>\n",
       "      <td>716.1</td>\n",
       "    </tr>\n",
       "    <tr>\n",
       "      <td>3</td>\n",
       "      <td>1967</td>\n",
       "      <td>388.2</td>\n",
       "    </tr>\n",
       "    <tr>\n",
       "      <td>4</td>\n",
       "      <td>1968</td>\n",
       "      <td>551.2</td>\n",
       "    </tr>\n",
       "  </tbody>\n",
       "</table>\n",
       "</div>"
      ],
      "text/plain": [
       "   Year  Annual\n",
       "0  1964     NaN\n",
       "1  1965   661.5\n",
       "2  1966   716.1\n",
       "3  1967   388.2\n",
       "4  1968   551.2"
      ]
     },
     "execution_count": 58,
     "metadata": {},
     "output_type": "execute_result"
    }
   ],
   "source": [
    "# change these variables to match the respective time series column and the variable you want to sonify\n",
    "\n",
    "time = 'Year'\n",
    "variable = 'Annual'\n",
    "\n",
    "# Remove the columns we don't care about!\n",
    "\n",
    "data = data[[time, variable]]\n",
    "\n",
    "data.head()"
   ]
  },
  {
   "cell_type": "code",
   "execution_count": 59,
   "metadata": {
    "collapsed": true
   },
   "outputs": [],
   "source": [
    "# Initialise the Midi file, the tempo and name can be set here\n",
    "\n",
    "mymidi = MIDITime(120, 'myfile.mid', 5, 5, 1)"
   ]
  },
  {
   "cell_type": "code",
   "execution_count": 60,
   "metadata": {},
   "outputs": [
    {
     "data": {
      "text/plain": [
       "<matplotlib.axes._subplots.AxesSubplot at 0x1c2856d43c8>"
      ]
     },
     "execution_count": 60,
     "metadata": {},
     "output_type": "execute_result"
    },
    {
     "data": {
      "image/png": "[encoded data removed]",
      "text/plain": [
       "<Figure size 432x288 with 1 Axes>"
      ]
     },
     "metadata": {
      "needs_background": "light"
     },
     "output_type": "display_data"
    }
   ],
   "source": [
    "# Visualise our data! What do we think it will sound like\n",
    "\n",
    "data[variable].plot()"
   ]
  },
  {
   "cell_type": "code",
   "execution_count": 61,
   "metadata": {
    "collapsed": true
   },
   "outputs": [],
   "source": [
    "# Are there missing values above? If so then run this cell to remove them as they don't play nicely with MIDI\n",
    "\n",
    "data = data.dropna()"
   ]
  },
  {
   "cell_type": "code",
   "execution_count": 62,
   "metadata": {
    "collapsed": true
   },
   "outputs": [],
   "source": [
    "# Convert date column to datetime objects\n",
    "# The format column will have to be adjust depending on the date format of your input data.\n",
    "data[time] = pandas.to_datetime(data[time], format=\"%Y\")\n",
    "\n",
    "# Convert datetime objects to days since epoch\n",
    "data[time] = data[time].apply(mymidi.days_since_epoch)\n",
    "\n",
    "# Convert days since epoch to midi beat value\n",
    "data[time] = data[time].apply(mymidi.beat)\n",
    "\n",
    "# Set the start time\n",
    "start_time = data[time][1]"
   ]
  },
  {
   "cell_type": "code",
   "execution_count": 63,
   "metadata": {
    "collapsed": true
   },
   "outputs": [],
   "source": [
    "# Go through each data value in our timeseries and turn the time value into midi timing and the variable of interest into pitch!\n",
    "\n",
    "note_list = []\n",
    "\n",
    "for a, b in data.itertuples(index=False):\n",
    "    note_list.append([\n",
    "        a - start_time,\n",
    "        data_to_pitch_tuned(b, min(data[variable]), max(data[variable])),\n",
    "        100,  # velocity\n",
    "        1  # duration, in beats\n",
    "    ])    "
   ]
  },
  {
   "cell_type": "code",
   "execution_count": 64,
   "metadata": {},
   "outputs": [
    {
     "name": "stdout",
     "output_type": "stream",
     "text": [
      "65 0.0 1 100\n",
      "67 9.990000000000002 1 100\n",
      "60 19.98 1 100\n",
      "64 29.98 1 100\n",
      "65 40.0 1 100\n",
      "71 49.99 1 100\n",
      "71 59.980000000000004 1 100\n",
      "65 69.98 1 100\n",
      "71 80.0 1 100\n",
      "71 89.99000000000001 1 100\n",
      "67 99.98 1 100\n",
      "62 109.98 1 100\n",
      "65 120.0 1 100\n",
      "71 129.99 1 100\n",
      "64 139.98 1 100\n",
      "64 149.98 1 100\n",
      "64 160.0 1 100\n",
      "62 169.99 1 100\n",
      "67 179.98000000000002 1 100\n",
      "65 189.98000000000002 1 100\n",
      "69 200.0 1 100\n",
      "64 209.99 1 100\n",
      "65 219.98000000000002 1 100\n",
      "65 229.98000000000002 1 100\n",
      "69 240.0 1 100\n",
      "65 249.99 1 100\n",
      "65 259.98 1 100\n",
      "71 269.98 1 100\n",
      "60 369.99 1 100\n",
      "62 379.98 1 100\n",
      "60 429.98 1 100\n",
      "60 440.0 1 100\n",
      "71 459.98 1 100\n",
      "64 469.98 1 100\n",
      "65 480.0 1 100\n",
      "62 489.99 1 100\n",
      "65 509.98 1 100\n",
      "62 529.99 1 100\n"
     ]
    }
   ],
   "source": [
    "# Add a track with those notes\n",
    "mymidi.add_track(note_list)\n",
    "\n",
    "# Output the .mid file, now we can play this in our fav daw, hardware or whatevs.\n",
    "mymidi.save_midi()\n",
    "\n",
    "# For an online option try https://onlinesequencer.net/"
   ]
  }
 ],
 "metadata": {
  "kernelspec": {
   "display_name": "Python 2",
   "language": "python",
   "name": "python2"
  },
  "language_info": {
   "codemirror_mode": {
    "name": "ipython",
    "version": 2
   },
   "file_extension": ".py",
   "mimetype": "text/x-python",
   "name": "python",
   "nbconvert_exporter": "python",
   "pygments_lexer": "ipython2",
   "version": "2.7.13"
  }
 },
 "nbformat": 4,
 "nbformat_minor": 4
}
